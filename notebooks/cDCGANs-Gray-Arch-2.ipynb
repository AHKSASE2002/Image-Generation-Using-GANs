{
 "cells": [
  {
   "cell_type": "markdown",
   "metadata": {},
   "source": [
    "# Conditional Deep Convolutional Generative Adversarial Network (cDCGAN)\n",
    "## Overview\n",
    "This Notebook is a simple implementation of a Conditional Deep Convolutional Generative Adversarial Network (cDCGAN) using PyTorch on Shoe Dataset (Gray Scale) found on kaggle (https://www.kaggle.com/datasets/hasibalmuzdadid/shoe-vs-sandal-vs-boot-dataset-15k-images). The cDCGAN is a GAN that uses the label information to generate images of a specific class."
   ]
  },
  {
   "cell_type": "markdown",
   "metadata": {},
   "source": [
    "## Table of Contents\n",
    "1. [Importing Libraries](#Imports)\n",
    "2. [EDA](#EDA)\n",
    "3. [Dataset and Dataloader](#Dataset_and_Dataloader)\n",
    "4. [Model](#Model)\n",
    "5. [Training](#Training)\n",
    "6. [Results](#Results)"
   ]
  },
  {
   "cell_type": "markdown",
   "metadata": {},
   "source": [
    "# Imports"
   ]
  },
  {
   "cell_type": "code",
   "execution_count": 2,
   "metadata": {},
   "outputs": [],
   "source": [
    "import torch\n",
    "import torch.nn as nn\n",
    "import torch.nn.functional as F\n",
    "import torch.optim as optim\n",
    "import numpy as np\n",
    "import random\n",
    "import os\n",
    "from torch.utils.data import DataLoader, Dataset, Subset, random_split\n",
    "from torchvision import transforms, datasets\n",
    "from torchvision.utils import make_grid\n",
    "from PIL import Image\n",
    "import matplotlib.pyplot as plt\n",
    "from torch.utils.tensorboard import SummaryWriter\n",
    "import random\n",
    "from torchvision.utils import make_grid\n",
    "from tqdm import tqdm\n",
    "from scipy import linalg\n",
    "from torch.nn.functional import adaptive_avg_pool2d\n",
    "import torchvision.models as models\n",
    "from IPython.display import clear_output"
   ]
  },
  {
   "cell_type": "code",
   "execution_count": 3,
   "metadata": {},
   "outputs": [
    {
     "data": {
      "text/plain": [
       "<torch._C.Generator at 0x28fc99c9470>"
      ]
     },
     "execution_count": 3,
     "metadata": {},
     "output_type": "execute_result"
    }
   ],
   "source": [
    "seed = 42\n",
    "random.seed(seed)\n",
    "torch.manual_seed(seed)"
   ]
  },
  {
   "cell_type": "markdown",
   "metadata": {},
   "source": [
    "# EDA"
   ]
  },
  {
   "cell_type": "code",
   "execution_count": 4,
   "metadata": {},
   "outputs": [],
   "source": [
    "DATA_DIR = \"../Shoes-Dataset-Colored/\"\n",
    "BOOT_DIR = os.path.join(DATA_DIR, 'Boot')\n",
    "SANDAL_DIR = os.path.join(DATA_DIR, 'Sandal')\n",
    "SHOE_DIR = os.path.join(DATA_DIR, 'Shoe')"
   ]
  },
  {
   "cell_type": "code",
   "execution_count": 5,
   "metadata": {},
   "outputs": [
    {
     "data": {
      "text/plain": [
       "(102, 136, 3)"
      ]
     },
     "execution_count": 5,
     "metadata": {},
     "output_type": "execute_result"
    }
   ],
   "source": [
    "# image size\n",
    "img = Image.open(os.path.join(BOOT_DIR, os.listdir(BOOT_DIR)[0]))\n",
    "img = np.array(img)\n",
    "img.shape\n"
   ]
  },
  {
   "cell_type": "markdown",
   "metadata": {},
   "source": [
    "# Dataset and Dataloader"
   ]
  },
  {
   "cell_type": "code",
   "execution_count": 6,
   "metadata": {},
   "outputs": [],
   "source": [
    "dir = \"../Shoes-Dataset-Colored\"\n",
    "batch_size = 64"
   ]
  },
  {
   "cell_type": "code",
   "execution_count": 7,
   "metadata": {},
   "outputs": [
    {
     "data": {
      "text/plain": [
       "{'Boot': 0, 'Sandal': 1, 'Shoe': 2}"
      ]
     },
     "execution_count": 7,
     "metadata": {},
     "output_type": "execute_result"
    }
   ],
   "source": [
    "transform = transforms.Compose([\n",
    "    transforms.Resize((128, 128)),\n",
    "    transforms.Grayscale(num_output_channels=3),  # Convert images to grayscale\n",
    "    transforms.ToTensor(),\n",
    "    transforms.Normalize([0.5], [0.5])  # Assuming grayscale, only one channel\n",
    "])\n",
    "\n",
    "footwear = datasets.ImageFolder(root=dir, transform=transform)\n",
    "mapping = footwear.class_to_idx\n",
    "mapping\n"
   ]
  },
  {
   "cell_type": "code",
   "execution_count": 8,
   "metadata": {},
   "outputs": [
    {
     "data": {
      "text/plain": [
       "Dataset ImageFolder\n",
       "    Number of datapoints: 32222\n",
       "    Root location: ../Shoes-Dataset-Colored\n",
       "    StandardTransform\n",
       "Transform: Compose(\n",
       "               Resize(size=(128, 128), interpolation=bilinear, max_size=None, antialias=True)\n",
       "               Grayscale(num_output_channels=3)\n",
       "               ToTensor()\n",
       "               Normalize(mean=[0.5], std=[0.5])\n",
       "           )"
      ]
     },
     "execution_count": 8,
     "metadata": {},
     "output_type": "execute_result"
    }
   ],
   "source": [
    "footwear"
   ]
  },
  {
   "cell_type": "code",
   "execution_count": 9,
   "metadata": {},
   "outputs": [],
   "source": [
    "train_loader = DataLoader(footwear, batch_size=batch_size, shuffle=True, drop_last=True)"
   ]
  },
  {
   "cell_type": "markdown",
   "metadata": {},
   "source": [
    "# Model"
   ]
  },
  {
   "cell_type": "markdown",
   "metadata": {},
   "source": [
    "This model is Based on the Paper https://arxiv.org/pdf/1511.06434.pdf from this video: https://youtu.be/IZtv9s_Wx9I?si=Hw91zHv2KjFU-xel"
   ]
  },
  {
   "cell_type": "markdown",
   "metadata": {},
   "source": [
    "Deconvolution Equation"
   ]
  },
  {
   "attachments": {
    "image.png": {
     "image/png": "[encoded data removed]"
    }
   },
   "cell_type": "markdown",
   "metadata": {},
   "source": [
    "![image.png](attachment:image.png)"
   ]
  },
  {
   "cell_type": "code",
   "execution_count": 10,
   "metadata": {},
   "outputs": [],
   "source": [
    "class Generator(nn.Module):\n",
    "    def __init__(self, z_dim, channels_img, features_g,num_classes,img_size,embed_size):\n",
    "        super(Generator, self).__init__()\n",
    "        self.img_size = img_size\n",
    "        self.generator = nn.Sequential(\n",
    "            # Input: N x (z_dim * 2) x 1x1\n",
    "            self._block(z_dim * 2, features_g * 32, 4, 1, 0),  # N x features_g * 32 x 4x4\n",
    "            self._block(features_g * 32, features_g * 16, 4, 2, 1),  # N x features_g * 16 x 8x8\n",
    "            self._block(features_g * 16, features_g * 8, 4, 2, 1),  # N x features_g * 8 x 16x16\n",
    "            self._block(features_g * 8, features_g * 4, 4, 2, 1),  # N x features_g * 4 x 32x32\n",
    "            self._block(features_g * 4, features_g * 2, 4, 2, 1),  # N x features_g * 2 x 64x64\n",
    "            nn.ConvTranspose2d(features_g * 2, channels_img, kernel_size=4, stride=2, padding=1),  # N x channels_img x 128x128\n",
    "            nn.Tanh()  # [-1, 1]\n",
    "        )\n",
    "        self.embed = nn.Embedding(num_classes, embed_size)\n",
    "    def _block(self, in_channels, out_channels, kernel_size, stride, padding):\n",
    "        return nn.Sequential(\n",
    "            nn.ConvTranspose2d(\n",
    "                in_channels, \n",
    "                out_channels, \n",
    "                kernel_size, \n",
    "                stride, \n",
    "                padding,\n",
    "                bias=False\n",
    "            ), # deconvolution\n",
    "            nn.BatchNorm2d(out_channels),\n",
    "            nn.ReLU()\n",
    "        )\n",
    "    def forward(self, x, labels):\n",
    "        # latent vector z: N x z_dim x 1 x 1\n",
    "        embedding = self.embed(labels).unsqueeze(2).unsqueeze(3)\n",
    "        x = torch.cat([x, embedding], dim=1)\n",
    "        return self.generator(x)"
   ]
  },
  {
   "cell_type": "markdown",
   "metadata": {},
   "source": [
    "Convolution Equation:"
   ]
  },
  {
   "attachments": {
    "image.png": {
     "image/png": "[encoded data removed]"
    }
   },
   "cell_type": "markdown",
   "metadata": {},
   "source": [
    "\n",
    "![image.png](attachment:image.png)"
   ]
  },
  {
   "cell_type": "code",
   "execution_count": 11,
   "metadata": {},
   "outputs": [],
   "source": [
    "class Discriminator(nn.Module):   \n",
    "    def __init__(self, channel_imgs, features_d,num_classes, img_size):\n",
    "        super(Discriminator, self).__init__()\n",
    "        self.img_size = img_size\n",
    "        # Input shape will be N(batch_size) x channel_imgs(1) x 64 x 64\n",
    "        self.discriminator = nn.Sequential(\n",
    "            nn.Conv2d(channel_imgs + 1, features_d, kernel_size=4, stride=2, padding=1),  # 64 x 64\n",
    "            nn.LeakyReLU(0.2),\n",
    "            self._block(features_d, features_d * 2, 4, 2, 1),  # 32 x 32\n",
    "            self._block(features_d * 2, features_d * 4, 4, 2, 1),  # 16 x 16\n",
    "            self._block(features_d * 4, features_d * 8, 4, 2, 1),  # 8 x 8\n",
    "            nn.Conv2d(features_d * 8, out_channels=1, kernel_size=8, stride=2, padding=0),  # 1 x 1\n",
    "            nn.Sigmoid()\n",
    "        )\n",
    "        self.embed = nn.Embedding(num_classes, img_size*img_size)\n",
    "    \n",
    "    def _block(self, in_channels, out_channels, kernel_size, stride, padding):\n",
    "        return nn.Sequential(\n",
    "            nn.Conv2d(\n",
    "                in_channels,\n",
    "                out_channels, \n",
    "                kernel_size,\n",
    "                stride,\n",
    "                padding,\n",
    "                bias=False\n",
    "            ),\n",
    "            nn.BatchNorm2d(out_channels),\n",
    "            nn.LeakyReLU(0.2)\n",
    "        )\n",
    "        \n",
    "    def forward(self, x, labels):\n",
    "        embedding = self.embed(labels).view(labels.shape[0], 1, self.img_size, self.img_size)\n",
    "        x = torch.cat([x, embedding], dim=1) # N x C x H x W\n",
    "        return self.discriminator(x)"
   ]
  },
  {
   "cell_type": "code",
   "execution_count": 12,
   "metadata": {},
   "outputs": [],
   "source": [
    "def intialize_weights(model):\n",
    "    for m in model.modules():\n",
    "        if isinstance(m, (nn.Conv2d, nn.ConvTranspose2d, nn.BatchNorm2d)):\n",
    "            nn.init.normal_(m.weight.data, 0.0, 0.02)"
   ]
  },
  {
   "cell_type": "code",
   "execution_count": 13,
   "metadata": {},
   "outputs": [
    {
     "name": "stdout",
     "output_type": "stream",
     "text": [
      "All tests passed\n"
     ]
    }
   ],
   "source": [
    "def test():\n",
    "    N, in_channels, H, W = 32, 3, 128, 128\n",
    "    num_classes = 3\n",
    "    label = torch.randint(0, num_classes, (N,))\n",
    "    z_dim = 100\n",
    "    x = torch.randn((N, in_channels, H, W))\n",
    "    disc = Discriminator(in_channels, 8, num_classes, H)\n",
    "    intialize_weights(disc)\n",
    "    assert disc(x,label).shape == (N, 1, 1, 1), \"Discriminator test failed\"\n",
    "    gen = Generator(z_dim, in_channels, 8, num_classes, H, 100)\n",
    "    intialize_weights(gen)\n",
    "    z = torch.randn((N, z_dim, 1, 1))\n",
    "    assert gen(z,label).shape == (N, in_channels, H, W), \"Generator test failed\"\n",
    "    print(\"All tests passed\")\n",
    "test()"
   ]
  },
  {
   "cell_type": "markdown",
   "metadata": {},
   "source": [
    "# Training"
   ]
  },
  {
   "cell_type": "code",
   "execution_count": 14,
   "metadata": {},
   "outputs": [
    {
     "name": "stdout",
     "output_type": "stream",
     "text": [
      "Using GPU\n"
     ]
    }
   ],
   "source": [
    "# Set the device (CPU or GPU)\n",
    "if torch.cuda.is_available():\n",
    "    print(\"Using GPU\")\n",
    "else:\n",
    "    print(\"Using CPU\")\n",
    "device = torch.device(\"cuda\" if torch.cuda.is_available() else \"cpu\")"
   ]
  },
  {
   "cell_type": "code",
   "execution_count": 15,
   "metadata": {},
   "outputs": [],
   "source": [
    "# Define the hyperparameters\n",
    "lr = 2e-4\n",
    "batch_size = 64\n",
    "image_size = 128\n",
    "in_channels = 3\n",
    "z_dim = 100\n",
    "epochs = 500\n",
    "features_disc = 64\n",
    "features_gen = 64\n",
    "num_classes = 3\n",
    "gen_embed_size = 100"
   ]
  },
  {
   "cell_type": "code",
   "execution_count": 16,
   "metadata": {},
   "outputs": [],
   "source": [
    "gen = Generator(z_dim, in_channels, features_gen,num_classes,image_size,gen_embed_size).to(device)\n",
    "disc = Discriminator(in_channels, features_disc,num_classes,image_size ).to(device)\n",
    "intialize_weights(gen)\n",
    "intialize_weights(disc)\n",
    "opt_gen = optim.Adam(gen.parameters(), lr=lr, betas=(0.5, 0.999))\n",
    "opt_disc = optim.Adam(disc.parameters(), lr=lr, betas=(0.5, 0.999))\n",
    "criterion = nn.BCELoss()"
   ]
  },
  {
   "cell_type": "code",
   "execution_count": 17,
   "metadata": {},
   "outputs": [],
   "source": [
    "fixed_noise = torch.randn(32, z_dim, 1, 1).to(device)\n",
    "writer_real = SummaryWriter(f\"logs/real\")\n",
    "write_fake = SummaryWriter(f\"logs/fake\")\n",
    "step = 0"
   ]
  },
  {
   "cell_type": "code",
   "execution_count": 18,
   "metadata": {},
   "outputs": [
    {
     "data": {
      "text/plain": [
       "Generator(\n",
       "  (generator): Sequential(\n",
       "    (0): Sequential(\n",
       "      (0): ConvTranspose2d(200, 2048, kernel_size=(4, 4), stride=(1, 1), bias=False)\n",
       "      (1): BatchNorm2d(2048, eps=1e-05, momentum=0.1, affine=True, track_running_stats=True)\n",
       "      (2): ReLU()\n",
       "    )\n",
       "    (1): Sequential(\n",
       "      (0): ConvTranspose2d(2048, 1024, kernel_size=(4, 4), stride=(2, 2), padding=(1, 1), bias=False)\n",
       "      (1): BatchNorm2d(1024, eps=1e-05, momentum=0.1, affine=True, track_running_stats=True)\n",
       "      (2): ReLU()\n",
       "    )\n",
       "    (2): Sequential(\n",
       "      (0): ConvTranspose2d(1024, 512, kernel_size=(4, 4), stride=(2, 2), padding=(1, 1), bias=False)\n",
       "      (1): BatchNorm2d(512, eps=1e-05, momentum=0.1, affine=True, track_running_stats=True)\n",
       "      (2): ReLU()\n",
       "    )\n",
       "    (3): Sequential(\n",
       "      (0): ConvTranspose2d(512, 256, kernel_size=(4, 4), stride=(2, 2), padding=(1, 1), bias=False)\n",
       "      (1): BatchNorm2d(256, eps=1e-05, momentum=0.1, affine=True, track_running_stats=True)\n",
       "      (2): ReLU()\n",
       "    )\n",
       "    (4): Sequential(\n",
       "      (0): ConvTranspose2d(256, 128, kernel_size=(4, 4), stride=(2, 2), padding=(1, 1), bias=False)\n",
       "      (1): BatchNorm2d(128, eps=1e-05, momentum=0.1, affine=True, track_running_stats=True)\n",
       "      (2): ReLU()\n",
       "    )\n",
       "    (5): ConvTranspose2d(128, 3, kernel_size=(4, 4), stride=(2, 2), padding=(1, 1))\n",
       "    (6): Tanh()\n",
       "  )\n",
       "  (embed): Embedding(3, 100)\n",
       ")"
      ]
     },
     "execution_count": 18,
     "metadata": {},
     "output_type": "execute_result"
    }
   ],
   "source": [
    "gen.train()"
   ]
  },
  {
   "cell_type": "code",
   "execution_count": 19,
   "metadata": {},
   "outputs": [
    {
     "data": {
      "text/plain": [
       "Discriminator(\n",
       "  (discriminator): Sequential(\n",
       "    (0): Conv2d(4, 64, kernel_size=(4, 4), stride=(2, 2), padding=(1, 1))\n",
       "    (1): LeakyReLU(negative_slope=0.2)\n",
       "    (2): Sequential(\n",
       "      (0): Conv2d(64, 128, kernel_size=(4, 4), stride=(2, 2), padding=(1, 1), bias=False)\n",
       "      (1): BatchNorm2d(128, eps=1e-05, momentum=0.1, affine=True, track_running_stats=True)\n",
       "      (2): LeakyReLU(negative_slope=0.2)\n",
       "    )\n",
       "    (3): Sequential(\n",
       "      (0): Conv2d(128, 256, kernel_size=(4, 4), stride=(2, 2), padding=(1, 1), bias=False)\n",
       "      (1): BatchNorm2d(256, eps=1e-05, momentum=0.1, affine=True, track_running_stats=True)\n",
       "      (2): LeakyReLU(negative_slope=0.2)\n",
       "    )\n",
       "    (4): Sequential(\n",
       "      (0): Conv2d(256, 512, kernel_size=(4, 4), stride=(2, 2), padding=(1, 1), bias=False)\n",
       "      (1): BatchNorm2d(512, eps=1e-05, momentum=0.1, affine=True, track_running_stats=True)\n",
       "      (2): LeakyReLU(negative_slope=0.2)\n",
       "    )\n",
       "    (5): Conv2d(512, 1, kernel_size=(8, 8), stride=(2, 2))\n",
       "    (6): Sigmoid()\n",
       "  )\n",
       "  (embed): Embedding(3, 16384)\n",
       ")"
      ]
     },
     "execution_count": 19,
     "metadata": {},
     "output_type": "execute_result"
    }
   ],
   "source": [
    "disc.train()"
   ]
  },
  {
   "cell_type": "markdown",
   "metadata": {},
   "source": [
    "## FID Metric"
   ]
  },
  {
   "cell_type": "code",
   "execution_count": 20,
   "metadata": {},
   "outputs": [
    {
     "name": "stderr",
     "output_type": "stream",
     "text": [
      "c:\\Users\\ahksa.LAPTOP-394KBUA4\\AppData\\Local\\Programs\\Python\\Python312\\Lib\\site-packages\\torchvision\\models\\_utils.py:208: UserWarning: The parameter 'pretrained' is deprecated since 0.13 and may be removed in the future, please use 'weights' instead.\n",
      "  warnings.warn(\n",
      "c:\\Users\\ahksa.LAPTOP-394KBUA4\\AppData\\Local\\Programs\\Python\\Python312\\Lib\\site-packages\\torchvision\\models\\_utils.py:223: UserWarning: Arguments other than a weight enum or `None` for 'weights' are deprecated since 0.13 and may be removed in the future. The current behavior is equivalent to passing `weights=Inception_V3_Weights.IMAGENET1K_V1`. You can also use `weights=Inception_V3_Weights.DEFAULT` to get the most up-to-date weights.\n",
      "  warnings.warn(msg)\n"
     ]
    }
   ],
   "source": [
    "class InceptionV3(nn.Module):\n",
    "    \"\"\"Pretrained InceptionV3 network returning feature maps\"\"\"\n",
    "\n",
    "    # Index of default block of inception to return,\n",
    "    # corresponds to output of final average pooling\n",
    "    DEFAULT_BLOCK_INDEX = 3\n",
    "\n",
    "    # Maps feature dimensionality to their output blocks indices\n",
    "    BLOCK_INDEX_BY_DIM = {\n",
    "        64: 0,   # First max pooling features\n",
    "        192: 1,  # Second max pooling featurs\n",
    "        768: 2,  # Pre-aux classifier features\n",
    "        2048: 3  # Final average pooling features\n",
    "    }\n",
    "\n",
    "    def __init__(self,\n",
    "                 output_blocks=[DEFAULT_BLOCK_INDEX],\n",
    "                 resize_input=True,\n",
    "                 normalize_input=True,\n",
    "                 requires_grad=False):\n",
    "        \n",
    "        super(InceptionV3, self).__init__()\n",
    "\n",
    "        self.resize_input = resize_input\n",
    "        self.normalize_input = normalize_input\n",
    "        self.output_blocks = sorted(output_blocks)\n",
    "        self.last_needed_block = max(output_blocks)\n",
    "\n",
    "        assert self.last_needed_block <= 3, \\\n",
    "            'Last possible output block index is 3'\n",
    "\n",
    "        self.blocks = nn.ModuleList()\n",
    "\n",
    "        \n",
    "        inception = models.inception_v3(pretrained=True)\n",
    "\n",
    "        # Block 0: input to maxpool1\n",
    "        block0 = [\n",
    "            inception.Conv2d_1a_3x3,\n",
    "            inception.Conv2d_2a_3x3,\n",
    "            inception.Conv2d_2b_3x3,\n",
    "            nn.MaxPool2d(kernel_size=3, stride=2)\n",
    "        ]\n",
    "        self.blocks.append(nn.Sequential(*block0))\n",
    "\n",
    "        # Block 1: maxpool1 to maxpool2\n",
    "        if self.last_needed_block >= 1:\n",
    "            block1 = [\n",
    "                inception.Conv2d_3b_1x1,\n",
    "                inception.Conv2d_4a_3x3,\n",
    "                nn.MaxPool2d(kernel_size=3, stride=2)\n",
    "            ]\n",
    "            self.blocks.append(nn.Sequential(*block1))\n",
    "\n",
    "        # Block 2: maxpool2 to aux classifier\n",
    "        if self.last_needed_block >= 2:\n",
    "            block2 = [\n",
    "                inception.Mixed_5b,\n",
    "                inception.Mixed_5c,\n",
    "                inception.Mixed_5d,\n",
    "                inception.Mixed_6a,\n",
    "                inception.Mixed_6b,\n",
    "                inception.Mixed_6c,\n",
    "                inception.Mixed_6d,\n",
    "                inception.Mixed_6e,\n",
    "            ]\n",
    "            self.blocks.append(nn.Sequential(*block2))\n",
    "\n",
    "        # Block 3: aux classifier to final avgpool\n",
    "        if self.last_needed_block >= 3:\n",
    "            block3 = [\n",
    "                inception.Mixed_7a,\n",
    "                inception.Mixed_7b,\n",
    "                inception.Mixed_7c,\n",
    "                nn.AdaptiveAvgPool2d(output_size=(1, 1))\n",
    "            ]\n",
    "            self.blocks.append(nn.Sequential(*block3))\n",
    "\n",
    "        for param in self.parameters():\n",
    "            param.requires_grad = requires_grad\n",
    "\n",
    "    def forward(self, inp):\n",
    "        \"\"\"Get Inception feature maps\n",
    "        Parameters\n",
    "        ----------\n",
    "        inp : torch.autograd.Variable\n",
    "            Input tensor of shape Bx3xHxW. Values are expected to be in\n",
    "            range (0, 1)\n",
    "        Returns\n",
    "        -------\n",
    "        List of torch.autograd.Variable, corresponding to the selected output\n",
    "        block, sorted ascending by index\n",
    "        \"\"\"\n",
    "        outp = []\n",
    "        x = inp\n",
    "\n",
    "        if self.resize_input:\n",
    "            x = F.interpolate(x,\n",
    "                              size=(299, 299),\n",
    "                              mode='bilinear',\n",
    "                              align_corners=False)\n",
    "\n",
    "        if self.normalize_input:\n",
    "            x = 2 * x - 1  # Scale from range (0, 1) to range (-1, 1)\n",
    "\n",
    "        for idx, block in enumerate(self.blocks):\n",
    "            x = block(x)\n",
    "            if idx in self.output_blocks:\n",
    "                outp.append(x)\n",
    "\n",
    "            if idx == self.last_needed_block:\n",
    "                break\n",
    "\n",
    "        return outp\n",
    "    \n",
    "block_idx = InceptionV3.BLOCK_INDEX_BY_DIM[2048]\n",
    "model = InceptionV3([block_idx])\n",
    "model=model.cuda()"
   ]
  },
  {
   "cell_type": "code",
   "execution_count": 21,
   "metadata": {},
   "outputs": [],
   "source": [
    "def calculate_activation_statistics(images,model,batch_size=32, dims=2048,\n",
    "                    cuda=False):\n",
    "    model.eval()\n",
    "    act=np.empty((len(images), dims))\n",
    "    \n",
    "    if cuda:\n",
    "        batch=images.cuda()\n",
    "    else:\n",
    "        batch=images\n",
    "    pred = model(batch)[0]\n",
    "\n",
    "        # If model output is not scalar, apply global spatial average pooling.\n",
    "        # This happens if you choose a dimensionality not equal 2048.\n",
    "    if pred.size(2) != 1 or pred.size(3) != 1:\n",
    "        pred = adaptive_avg_pool2d(pred, output_size=(1, 1))\n",
    "\n",
    "    act= pred.cpu().data.numpy().reshape(pred.size(0), -1)\n",
    "    \n",
    "    mu = np.mean(act, axis=0)\n",
    "    sigma = np.cov(act, rowvar=False)\n",
    "    return mu, sigma"
   ]
  },
  {
   "cell_type": "code",
   "execution_count": 22,
   "metadata": {},
   "outputs": [],
   "source": [
    "def calculate_frechet_distance(mu1, sigma1, mu2, sigma2, eps=1e-6):\n",
    "    \"\"\"Numpy implementation of the Frechet Distance.\n",
    "    The Frechet distance between two multivariate Gaussians X_1 ~ N(mu_1, C_1)\n",
    "    and X_2 ~ N(mu_2, C_2) is\n",
    "            d^2 = ||mu_1 - mu_2||^2 + Tr(C_1 + C_2 - 2*sqrt(C_1*C_2)).\n",
    "    \"\"\"\n",
    "\n",
    "    mu1 = np.atleast_1d(mu1)\n",
    "    mu2 = np.atleast_1d(mu2)\n",
    "\n",
    "    sigma1 = np.atleast_2d(sigma1)\n",
    "    sigma2 = np.atleast_2d(sigma2)\n",
    "\n",
    "    assert mu1.shape == mu2.shape, \\\n",
    "        'Training and test mean vectors have different lengths'\n",
    "    assert sigma1.shape == sigma2.shape, \\\n",
    "        'Training and test covariances have different dimensions'\n",
    "\n",
    "    diff = mu1 - mu2\n",
    "\n",
    "    \n",
    "    covmean, _ = linalg.sqrtm(sigma1.dot(sigma2), disp=False)\n",
    "    if not np.isfinite(covmean).all():\n",
    "        msg = ('fid calculation produces singular product; '\n",
    "               'adding %s to diagonal of cov estimates') % eps\n",
    "        print(msg)\n",
    "        offset = np.eye(sigma1.shape[0]) * eps\n",
    "        covmean = linalg.sqrtm((sigma1 + offset).dot(sigma2 + offset))\n",
    "\n",
    "    \n",
    "    if np.iscomplexobj(covmean):\n",
    "        if not np.allclose(np.diagonal(covmean).imag, 0, atol=1e-3):\n",
    "            m = np.max(np.abs(covmean.imag))\n",
    "            raise ValueError('Imaginary component {}'.format(m))\n",
    "        covmean = covmean.real\n",
    "\n",
    "    tr_covmean = np.trace(covmean)\n",
    "\n",
    "    return (diff.dot(diff) + np.trace(sigma1) +\n",
    "            np.trace(sigma2) - 2 * tr_covmean)"
   ]
  },
  {
   "cell_type": "code",
   "execution_count": 23,
   "metadata": {},
   "outputs": [],
   "source": [
    "def calculate_fretchet(images_real,images_fake,model):\n",
    "     mu_1,std_1=calculate_activation_statistics(images_real,model,cuda=True)\n",
    "     mu_2,std_2=calculate_activation_statistics(images_fake,model,cuda=True)\n",
    "    \n",
    "     \"\"\"get fretched distance\"\"\"\n",
    "     fid_value = calculate_frechet_distance(mu_1, std_1, mu_2, std_2)\n",
    "     return fid_value"
   ]
  },
  {
   "cell_type": "markdown",
   "metadata": {},
   "source": [
    "## Training Loop"
   ]
  },
  {
   "cell_type": "code",
   "execution_count": 24,
   "metadata": {},
   "outputs": [],
   "source": [
    "losses_disc = []\n",
    "losses_gen = []\n",
    "fid_scores = []"
   ]
  },
  {
   "cell_type": "code",
   "execution_count": 24,
   "metadata": {},
   "outputs": [],
   "source": [
    "# gen.load_state_dict(torch.load(\"./cDCGANs-Gray/cDCGANs-Gray-Arch-2-/gen_.pth\"))\n",
    "# disc.load_state_dict(torch.load(\"./cDCGANs-Gray/cDCGANs-Gray-Arch-2-/disc_.pth\"))\n",
    "# opt_disc.load_state_dict(torch.load(\"./cDCGANs-Gray/cDCGANs-Gray-Arch-2-/opt_disc_.pth\"))\n",
    "# opt_gen.load_state_dict(torch.load(\"./cDCGANs-Gray/cDCGANs-Gray-Arch-2-/opt_gen_.pth\"))\n",
    "# loss_disc = torch.load(\"./cDCGANs-Gray/cDCGANs-Gray-Arch-2-/losses_disc.pth\")\n",
    "# loss_gen = torch.load(\"./cDCGANs-Gray/cDCGANs-Gray-Arch-2-/losses_gen.pth\")\n",
    "# fid_scores_prev = torch.load(\"./cDCGANs-Gray/cDCGANs-Gray-Arch-2-/fid_scores.pth\")"
   ]
  },
  {
   "cell_type": "code",
   "execution_count": 25,
   "metadata": {},
   "outputs": [
    {
     "name": "stderr",
     "output_type": "stream",
     "text": [
      "Epoch 351/500:   0%|          | 0/503 [00:00<?, ?it/s, Loss D=2.58e-6, Loss G=-2.21e-6]"
     ]
    },
    {
     "name": "stdout",
     "output_type": "stream",
     "text": [
      "Epoch [351/500] Batch 0/503 Loss D: 0.0000, loss G: -0.0000\n"
     ]
    },
    {
     "name": "stderr",
     "output_type": "stream",
     "text": [
      "Epoch 351/500:  20%|█▉        | 100/503 [00:55<03:39,  1.83it/s, Loss D=5.41e-5, Loss G=-3.84e-6]"
     ]
    },
    {
     "name": "stdout",
     "output_type": "stream",
     "text": [
      "Epoch [351/500] Batch 100/503 Loss D: 0.0001, loss G: -0.0000\n"
     ]
    },
    {
     "name": "stderr",
     "output_type": "stream",
     "text": [
      "Epoch 351/500:  40%|███▉      | 200/503 [01:50<02:45,  1.83it/s, Loss D=4.76e-5, Loss G=-6.79e-6] "
     ]
    },
    {
     "name": "stdout",
     "output_type": "stream",
     "text": [
      "Epoch [351/500] Batch 200/503 Loss D: 0.0000, loss G: -0.0000\n"
     ]
    },
    {
     "name": "stderr",
     "output_type": "stream",
     "text": [
      "Epoch 351/500:  60%|█████▉    | 300/503 [02:45<01:49,  1.85it/s, Loss D=1.09e-5, Loss G=-1.14e-5] "
     ]
    },
    {
     "name": "stdout",
     "output_type": "stream",
     "text": [
      "Epoch [351/500] Batch 300/503 Loss D: 0.0000, loss G: -0.0000\n"
     ]
    },
    {
     "name": "stderr",
     "output_type": "stream",
     "text": [
      "Epoch 351/500:  80%|███████▉  | 400/503 [03:39<00:55,  1.84it/s, Loss D=6.86e-6, Loss G=-7.82e-6] "
     ]
    },
    {
     "name": "stdout",
     "output_type": "stream",
     "text": [
      "Epoch [351/500] Batch 400/503 Loss D: 0.0000, loss G: -0.0000\n"
     ]
    },
    {
     "name": "stderr",
     "output_type": "stream",
     "text": [
      "Epoch 351/500:  99%|█████████▉| 500/503 [04:34<00:01,  1.84it/s, Loss D=4.66e-5, Loss G=-1.9e-5]  "
     ]
    },
    {
     "name": "stdout",
     "output_type": "stream",
     "text": [
      "Epoch [351/500] Batch 500/503 Loss D: 0.0000, loss G: -0.0000\n"
     ]
    },
    {
     "name": "stderr",
     "output_type": "stream",
     "text": [
      "Epoch 351/500: 100%|██████████| 503/503 [04:36<00:00,  1.82it/s, Loss D=4.82e-6, Loss G=-7.61e-6]\n"
     ]
    },
    {
     "name": "stdout",
     "output_type": "stream",
     "text": [
      "Epoch [351/500] FID: 278.4680\n"
     ]
    },
    {
     "name": "stderr",
     "output_type": "stream",
     "text": [
      "Epoch 352/500:   0%|          | 0/503 [00:00<?, ?it/s, Loss D=1.26e-5, Loss G=-1.31e-5]"
     ]
    },
    {
     "name": "stdout",
     "output_type": "stream",
     "text": [
      "Epoch [352/500] Batch 0/503 Loss D: 0.0000, loss G: -0.0000\n"
     ]
    },
    {
     "name": "stderr",
     "output_type": "stream",
     "text": [
      "Epoch 352/500:  20%|█▉        | 100/503 [00:55<03:38,  1.85it/s, Loss D=7.87e-6, Loss G=-9.66e-6]"
     ]
    },
    {
     "name": "stdout",
     "output_type": "stream",
     "text": [
      "Epoch [352/500] Batch 100/503 Loss D: 0.0000, loss G: -0.0000\n"
     ]
    },
    {
     "name": "stderr",
     "output_type": "stream",
     "text": [
      "Epoch 352/500:  40%|███▉      | 200/503 [01:50<02:50,  1.78it/s, Loss D=0.00055, Loss G=-0.000736] "
     ]
    },
    {
     "name": "stdout",
     "output_type": "stream",
     "text": [
      "Epoch [352/500] Batch 200/503 Loss D: 0.0005, loss G: -0.0007\n"
     ]
    },
    {
     "name": "stderr",
     "output_type": "stream",
     "text": [
      "Epoch 352/500:  43%|████▎     | 218/503 [02:00<02:41,  1.76it/s, Loss D=0.0006, Loss G=-0.00095]   "
     ]
    }
   ],
   "source": [
    "start_epoch = 0\n",
    "step = 0\n",
    "# losses_disc = loss_disc\n",
    "# losses_gen = loss_gen\n",
    "# fid_scores = fid_scores_prev\n",
    "\n",
    "for epoch in range(start_epoch, epochs):\n",
    "    tqdm_train_loader = tqdm(train_loader, desc=f\"Epoch {epoch+1}/{epochs}\")\n",
    "    for batch_idx, (real, labels) in enumerate(tqdm_train_loader):\n",
    "        real = real.to(device)\n",
    "        noise = torch.randn(batch_size, z_dim, 1, 1).to(device)\n",
    "        labels = labels.to(device)\n",
    "        fake = gen(noise,labels)\n",
    "        \n",
    "        # Train Discriminator: max log(D(real)) + log(1 - D(G(z)))\n",
    "        disc_real = disc(real,labels).reshape(-1)\n",
    "        loss_disc_real = criterion(disc_real, torch.ones_like(disc_real))\n",
    "        disc_fake = disc(fake,labels).reshape(-1)\n",
    "        loss_disc_fake = criterion(disc_fake, torch.zeros_like(disc_fake))\n",
    "        loss_disc = (loss_disc_real + loss_disc_fake)/2\n",
    "        disc.zero_grad()\n",
    "        loss_disc.backward(retain_graph=True)\n",
    "        opt_disc.step()\n",
    "            \n",
    "        \n",
    "        ## Train Generator: min -E[disc(gen_fake)]\n",
    "        output = disc(fake, labels).reshape(-1)\n",
    "        loss_gen = -torch.mean(output)\n",
    "        gen.zero_grad()\n",
    "        loss_gen.backward()\n",
    "        opt_gen.step()\n",
    "        losses_gen.append(loss_gen.item())\n",
    "        losses_disc.append(loss_disc.item())\n",
    "        # Update progress bar description\n",
    "        tqdm_train_loader.set_postfix({\"Loss D\": loss_disc.item(), \"Loss G\": loss_gen.item()})\n",
    "\n",
    "        if batch_idx % 100 == 0:\n",
    "            tqdm_train_loader.write(\n",
    "                f\"Epoch [{epoch+1}/{epochs}] Batch {batch_idx}/{len(train_loader)} Loss D: {loss_disc:.4f}, loss G: {loss_gen:.4f}\"\n",
    "            )\n",
    "\n",
    "            with torch.no_grad():\n",
    "                fake = gen(noise, labels)\n",
    "                img_grid_real = make_grid(real[:32], normalize=True)\n",
    "                img_grid_fake = make_grid(fake[:32], normalize=True)\n",
    "                writer_real.add_image(\"Real\", img_grid_real, global_step=step)\n",
    "                write_fake.add_image(\"Fake\", img_grid_fake, global_step=step)\n",
    "                step += 1\n",
    "\n",
    "    # Visualize and print losses after each epoch\n",
    "    plt.figure(figsize=(10, 5))\n",
    "    plt.plot(losses_disc, label='Disc Loss')\n",
    "    plt.plot(losses_gen, label='Generator Loss')\n",
    "    plt.xlabel('Iteration')\n",
    "    plt.ylabel('Loss')\n",
    "    plt.title(f'Epoch {epoch+1}/{epochs}: Disc and Generator Losses')\n",
    "    plt.legend()\n",
    "    os.makedirs(\"cDCGANs-Gray/images/loss\", exist_ok=True)\n",
    "    plt.savefig(f\"cDCGANs-Gray/images/loss/loss{epoch+1}.png\")\n",
    "    plt.close()\n",
    "    # Calculate and visualize FID every epoch\n",
    "    with torch.no_grad():\n",
    "        fake = gen(noise, labels)\n",
    "        fid = calculate_fretchet(real, fake, model)\n",
    "        fid_scores.append(fid)\n",
    "\n",
    "        # Visualize FID\n",
    "        plt.figure(figsize=(10, 5))\n",
    "        plt.plot(range(epoch + 1), fid_scores, label='FID')\n",
    "        plt.xlabel('Epoch')\n",
    "        plt.ylabel('FID')\n",
    "        plt.title('FID Score')\n",
    "        plt.legend()\n",
    "        os.makedirs(\"cDCGANs-Gray/images/fid\", exist_ok=True)\n",
    "        plt.savefig(f\"cDCGANs-Gray/images/fid/fid{epoch+1}.png\")\n",
    "        plt.close()\n",
    "\n",
    "        # Print FID score\n",
    "        print(f\"Epoch [{epoch+1}/{epochs}] FID: {fid:.4f}\")\n",
    "\n",
    "    if (epoch+1) % 1 == 0 or epoch == 0:\n",
    "        gen.eval()\n",
    "        noise = torch.randn(32, z_dim, 1, 1).to(device)\n",
    "        fake = gen(noise, labels[:32])\n",
    "        img_grid_fake = make_grid(fake[:32], normalize=True)\n",
    "        plt.imshow(img_grid_fake.permute(1, 2, 0).cpu().numpy())\n",
    "        os.makedirs(\"cDCGANs-Gray/images/fake\", exist_ok=True)\n",
    "        plt.savefig(f\"cDCGANs-Gray/images/fake/fake{epoch+1}.png\")\n",
    "        plt.close()\n",
    "\n",
    "    # Save evaluation metrics, generator, disc, and optimizers every 50 epochs\n",
    "    if (epoch + 1) % 50 == 0:\n",
    "        os.makedirs(f\"cDCGANs-Gray/cDCGANs-Gray-Arch-2-{epoch+1}\", exist_ok=True)\n",
    "        \n",
    "        # Visualize FID\n",
    "        plt.figure(figsize=(10, 5))\n",
    "        plt.plot(range(epoch + 1), fid_scores, label='FID')\n",
    "        plt.xlabel('Epoch')\n",
    "        plt.ylabel('FID')\n",
    "        plt.title('FID Score')\n",
    "        plt.legend()\n",
    "        plt.savefig(f\"cDCGANs-Gray/cDCGANs-Gray-Arch-2-{epoch+1}/fid_plot.png\")\n",
    "        plt.close()\n",
    "        \n",
    "        plt.figure(figsize=(10, 5))\n",
    "        plt.plot(losses_disc, label='Disc Loss')\n",
    "        plt.plot(losses_gen, label='Generator Loss')\n",
    "        plt.xlabel('Iteration')\n",
    "        plt.ylabel('Loss')\n",
    "        plt.title(f'Epoch {epoch+1}/{epochs}: Disc and Generator Losses')\n",
    "        plt.legend()\n",
    "        plt.savefig(f\"cDCGANs-Gray/cDCGANs-Gray-Arch-2-{epoch+1}/losses_plot.png\")  \n",
    "        \n",
    "        plt.imsave(f\"cDCGANs-Gray/cDCGANs-Gray-Arch-2-{epoch+1}/fake_{epoch+1}.png\", img_grid_fake.permute(1, 2, 0).cpu().numpy())\n",
    "        # Save evaluation metrics\n",
    "        evaluation_metrics = {\"FID\": fid_scores[-1]}\n",
    "        torch.save(evaluation_metrics, f\"cDCGANs-Gray/cDCGANs-Gray-Arch-2-{epoch+1}/evaluation_metrics.pth\")\n",
    "\n",
    "        # Save generator, disc, and optimizers\n",
    "        torch.save(gen.state_dict(), f\"cDCGANs-Gray/cDCGANs-Gray-Arch-2-{epoch+1}/gen_{epoch+1}.pth\")\n",
    "        torch.save(disc.state_dict(), f\"cDCGANs-Gray/cDCGANs-Gray-Arch-2-{epoch+1}/disc_{epoch+1}.pth\")\n",
    "        torch.save(opt_gen.state_dict(), f\"cDCGANs-Gray/cDCGANs-Gray-Arch-2-{epoch+1}/opt_gen_{epoch+1}.pth\")\n",
    "        torch.save(opt_disc.state_dict(), f\"cDCGANs-Gray/cDCGANs-Gray-Arch-2-{epoch+1}/opt_disc_{epoch+1}.pth\")\n",
    "\n",
    "        # Save losses and evaluation scores to files\n",
    "        torch.save(losses_disc, f\"cDCGANs-Gray/cDCGANs-Gray-Arch-2-{epoch+1}/losses_disc.pth\")\n",
    "        torch.save(losses_gen, f\"cDCGANs-Gray/cDCGANs-Gray-Arch-2-{epoch+1}/losses_gen.pth\")\n",
    "        torch.save(fid_scores, f\"cDCGANs-Gray/cDCGANs-Gray-Arch-2-{epoch+1}/fid_scores.pth\")\n",
    "    if (epoch+1) %25 == 0:\n",
    "        clear_output()\n",
    "    gen.train()\n"
   ]
  },
  {
   "cell_type": "code",
   "execution_count": 25,
   "metadata": {},
   "outputs": [],
   "source": [
    "gen.load_state_dict(torch.load(\"C:\\\\Users\\\\ahksa.LAPTOP-394KBUA4\\\\OneDrive\\\\Desktop\\\\CESS Files\\\\Semester 6\\\\Artificial Intelligence\\\\Project\\\\Image-Generation-Using-Generative-AI\\\\cDCGANs-Gray-Scaled\\\\cDCGANs-Gray\\\\cDCGANs-Gray-Arch-2-350\\\\gen_350.pth\"))\n",
    "disc.load_state_dict(torch.load(\"C:\\\\Users\\\\ahksa.LAPTOP-394KBUA4\\\\OneDrive\\\\Desktop\\\\CESS Files\\\\Semester 6\\\\Artificial Intelligence\\\\Project\\\\Image-Generation-Using-Generative-AI\\\\cDCGANs-Gray-Scaled\\\\cDCGANs-Gray\\\\cDCGANs-Gray-Arch-2-350\\\\disc_350.pth\"))\n",
    "opt_disc.load_state_dict(torch.load(\"C:\\\\Users\\\\ahksa.LAPTOP-394KBUA4\\\\OneDrive\\\\Desktop\\\\CESS Files\\\\Semester 6\\\\Artificial Intelligence\\\\Project\\\\Image-Generation-Using-Generative-AI\\\\cDCGANs-Gray-Scaled\\\\cDCGANs-Gray\\\\cDCGANs-Gray-Arch-2-350\\\\opt_disc_350.pth\"))\n",
    "opt_gen.load_state_dict(torch.load(\"C:\\\\Users\\\\ahksa.LAPTOP-394KBUA4\\\\OneDrive\\\\Desktop\\\\CESS Files\\\\Semester 6\\\\Artificial Intelligence\\\\Project\\\\Image-Generation-Using-Generative-AI\\\\cDCGANs-Gray-Scaled\\\\cDCGANs-Gray\\\\cDCGANs-Gray-Arch-2-350\\\\opt_gen_350.pth\"))\n",
    "loss_disc = torch.load(\"C:\\\\Users\\\\ahksa.LAPTOP-394KBUA4\\\\OneDrive\\\\Desktop\\\\CESS Files\\\\Semester 6\\\\Artificial Intelligence\\\\Project\\\\Image-Generation-Using-Generative-AI\\\\cDCGANs-Gray-Scaled\\\\cDCGANs-Gray\\\\cDCGANs-Gray-Arch-2-350\\\\losses_disc.pth\")\n",
    "loss_gen = torch.load(\"C:\\\\Users\\\\ahksa.LAPTOP-394KBUA4\\\\OneDrive\\\\Desktop\\\\CESS Files\\\\Semester 6\\\\Artificial Intelligence\\\\Project\\\\Image-Generation-Using-Generative-AI\\\\cDCGANs-Gray-Scaled\\\\cDCGANs-Gray\\\\cDCGANs-Gray-Arch-2-350\\\\losses_gen.pth\")\n",
    "fid_scores_prev = torch.load(\"C:\\\\Users\\\\ahksa.LAPTOP-394KBUA4\\\\OneDrive\\\\Desktop\\\\CESS Files\\\\Semester 6\\\\Artificial Intelligence\\\\Project\\\\Image-Generation-Using-Generative-AI\\\\cDCGANs-Gray-Scaled\\\\cDCGANs-Gray\\\\cDCGANs-Gray-Arch-2-350\\\\fid_scores.pth\")"
   ]
  },
  {
   "cell_type": "code",
   "execution_count": 26,
   "metadata": {},
   "outputs": [
    {
     "name": "stderr",
     "output_type": "stream",
     "text": [
      "Epoch 451/500:   0%|          | 0/503 [00:01<?, ?it/s, Loss D=0.00139, Loss G=-0.00128]"
     ]
    },
    {
     "name": "stdout",
     "output_type": "stream",
     "text": [
      "Epoch [451/500] Batch 0/503 Loss D: 0.0014, loss G: -0.0013\n"
     ]
    },
    {
     "name": "stderr",
     "output_type": "stream",
     "text": [
      "Epoch 451/500:  20%|█▉        | 100/503 [01:54<07:29,  1.12s/it, Loss D=0.00433, Loss G=-0.00283] "
     ]
    },
    {
     "name": "stdout",
     "output_type": "stream",
     "text": [
      "Epoch [451/500] Batch 100/503 Loss D: 0.0043, loss G: -0.0028\n"
     ]
    },
    {
     "name": "stderr",
     "output_type": "stream",
     "text": [
      "Epoch 451/500:  40%|███▉      | 200/503 [03:48<05:56,  1.18s/it, Loss D=0.00335, Loss G=-0.00334]  "
     ]
    },
    {
     "name": "stdout",
     "output_type": "stream",
     "text": [
      "Epoch [451/500] Batch 200/503 Loss D: 0.0034, loss G: -0.0033\n"
     ]
    },
    {
     "name": "stderr",
     "output_type": "stream",
     "text": [
      "Epoch 451/500:  60%|█████▉    | 300/503 [05:38<03:30,  1.04s/it, Loss D=0.00167, Loss G=-0.000716] "
     ]
    },
    {
     "name": "stdout",
     "output_type": "stream",
     "text": [
      "Epoch [451/500] Batch 300/503 Loss D: 0.0017, loss G: -0.0007\n"
     ]
    },
    {
     "name": "stderr",
     "output_type": "stream",
     "text": [
      "Epoch 451/500:  80%|███████▉  | 400/503 [07:29<02:30,  1.46s/it, Loss D=3.44e-5, Loss G=-1.9e-5]  "
     ]
    },
    {
     "name": "stdout",
     "output_type": "stream",
     "text": [
      "Epoch [451/500] Batch 400/503 Loss D: 0.0000, loss G: -0.0000\n"
     ]
    },
    {
     "name": "stderr",
     "output_type": "stream",
     "text": [
      "Epoch 451/500:  99%|█████████▉| 500/503 [16:04<00:10,  3.56s/it, Loss D=1.39e-5, Loss G=-1.05e-9]  "
     ]
    },
    {
     "name": "stdout",
     "output_type": "stream",
     "text": [
      "Epoch [451/500] Batch 500/503 Loss D: 0.0000, loss G: -0.0000\n"
     ]
    },
    {
     "name": "stderr",
     "output_type": "stream",
     "text": [
      "Epoch 451/500: 100%|██████████| 503/503 [16:12<00:00,  1.93s/it, Loss D=2.44e-5, Loss G=-1.4e-9]  \n"
     ]
    },
    {
     "name": "stdout",
     "output_type": "stream",
     "text": [
      "Epoch [451/500] FID: 275.2848\n"
     ]
    },
    {
     "name": "stderr",
     "output_type": "stream",
     "text": [
      "Epoch 452/500:   0%|          | 0/503 [00:03<?, ?it/s]\n"
     ]
    },
    {
     "ename": "KeyboardInterrupt",
     "evalue": "",
     "output_type": "error",
     "traceback": [
      "\u001b[1;31m---------------------------------------------------------------------------\u001b[0m",
      "\u001b[1;31mKeyboardInterrupt\u001b[0m                         Traceback (most recent call last)",
      "Cell \u001b[1;32mIn[26], line 32\u001b[0m\n\u001b[0;32m     30\u001b[0m loss_gen\u001b[38;5;241m.\u001b[39mbackward()\n\u001b[0;32m     31\u001b[0m opt_gen\u001b[38;5;241m.\u001b[39mstep()\n\u001b[1;32m---> 32\u001b[0m losses_gen\u001b[38;5;241m.\u001b[39mappend(\u001b[43mloss_gen\u001b[49m\u001b[38;5;241;43m.\u001b[39;49m\u001b[43mitem\u001b[49m\u001b[43m(\u001b[49m\u001b[43m)\u001b[49m)\n\u001b[0;32m     33\u001b[0m losses_disc\u001b[38;5;241m.\u001b[39mappend(loss_disc\u001b[38;5;241m.\u001b[39mitem())\n\u001b[0;32m     34\u001b[0m \u001b[38;5;66;03m# Update progress bar description\u001b[39;00m\n",
      "\u001b[1;31mKeyboardInterrupt\u001b[0m: "
     ]
    }
   ],
   "source": [
    "start_epoch = 350\n",
    "step = 0\n",
    "losses_disc = loss_disc\n",
    "losses_gen = loss_gen\n",
    "fid_scores = fid_scores_prev\n",
    "\n",
    "for epoch in range(start_epoch, epochs):\n",
    "    tqdm_train_loader = tqdm(train_loader, desc=f\"Epoch {epoch+1}/{epochs}\")\n",
    "    for batch_idx, (real, labels) in enumerate(tqdm_train_loader):\n",
    "        real = real.to(device)\n",
    "        noise = torch.randn(batch_size, z_dim, 1, 1).to(device)\n",
    "        labels = labels.to(device)\n",
    "        fake = gen(noise,labels)\n",
    "        \n",
    "        # Train Discriminator: max log(D(real)) + log(1 - D(G(z)))\n",
    "        disc_real = disc(real,labels).reshape(-1)\n",
    "        loss_disc_real = criterion(disc_real, torch.ones_like(disc_real))\n",
    "        disc_fake = disc(fake,labels).reshape(-1)\n",
    "        loss_disc_fake = criterion(disc_fake, torch.zeros_like(disc_fake))\n",
    "        loss_disc = (loss_disc_real + loss_disc_fake)/2\n",
    "        disc.zero_grad()\n",
    "        loss_disc.backward(retain_graph=True)\n",
    "        opt_disc.step()\n",
    "            \n",
    "        \n",
    "        ## Train Generator: min -E[disc(gen_fake)]\n",
    "        output = disc(fake, labels).reshape(-1)\n",
    "        loss_gen = -torch.mean(output)\n",
    "        gen.zero_grad()\n",
    "        loss_gen.backward()\n",
    "        opt_gen.step()\n",
    "        losses_gen.append(loss_gen.item())\n",
    "        losses_disc.append(loss_disc.item())\n",
    "        # Update progress bar description\n",
    "        tqdm_train_loader.set_postfix({\"Loss D\": loss_disc.item(), \"Loss G\": loss_gen.item()})\n",
    "\n",
    "        if batch_idx % 100 == 0:\n",
    "            tqdm_train_loader.write(\n",
    "                f\"Epoch [{epoch+1}/{epochs}] Batch {batch_idx}/{len(train_loader)} Loss D: {loss_disc:.4f}, loss G: {loss_gen:.4f}\"\n",
    "            )\n",
    "\n",
    "            with torch.no_grad():\n",
    "                fake = gen(noise, labels)\n",
    "                img_grid_real = make_grid(real[:32], normalize=True)\n",
    "                img_grid_fake = make_grid(fake[:32], normalize=True)\n",
    "                writer_real.add_image(\"Real\", img_grid_real, global_step=step)\n",
    "                write_fake.add_image(\"Fake\", img_grid_fake, global_step=step)\n",
    "                step += 1\n",
    "\n",
    "    # Visualize and print losses after each epoch\n",
    "    plt.figure(figsize=(10, 5))\n",
    "    plt.plot(losses_disc, label='Disc Loss')\n",
    "    plt.plot(losses_gen, label='Generator Loss')\n",
    "    plt.xlabel('Iteration')\n",
    "    plt.ylabel('Loss')\n",
    "    plt.title(f'Epoch {epoch+1}/{epochs}: Disc and Generator Losses')\n",
    "    plt.legend()\n",
    "    os.makedirs(\"cDCGANs-Gray/images/loss\", exist_ok=True)\n",
    "    plt.savefig(f\"cDCGANs-Gray/images/loss/loss{epoch+1}.png\")\n",
    "    plt.close()\n",
    "    # Calculate and visualize FID every epoch\n",
    "    with torch.no_grad():\n",
    "        fake = gen(noise, labels)\n",
    "        fid = calculate_fretchet(real, fake, model)\n",
    "        fid_scores.append(fid)\n",
    "\n",
    "        # Visualize FID\n",
    "        plt.figure(figsize=(10, 5))\n",
    "        plt.plot(range(epoch + 1), fid_scores, label='FID')\n",
    "        plt.xlabel('Epoch')\n",
    "        plt.ylabel('FID')\n",
    "        plt.title('FID Score')\n",
    "        plt.legend()\n",
    "        os.makedirs(\"cDCGANs-Gray/images/fid\", exist_ok=True)\n",
    "        plt.savefig(f\"cDCGANs-Gray/images/fid/fid{epoch+1}.png\")\n",
    "        plt.close()\n",
    "\n",
    "        # Print FID score\n",
    "        print(f\"Epoch [{epoch+1}/{epochs}] FID: {fid:.4f}\")\n",
    "\n",
    "    if (epoch+1) % 1 == 0 or epoch == 0:\n",
    "        gen.eval()\n",
    "        noise = torch.randn(32, z_dim, 1, 1).to(device)\n",
    "        fake = gen(noise, labels[:32])\n",
    "        img_grid_fake = make_grid(fake[:32], normalize=True)\n",
    "        plt.imshow(img_grid_fake.permute(1, 2, 0).cpu().numpy())\n",
    "        os.makedirs(\"cDCGANs-Gray/images/fake\", exist_ok=True)\n",
    "        plt.savefig(f\"cDCGANs-Gray/images/fake/fake{epoch+1}.png\")\n",
    "        plt.close()\n",
    "\n",
    "    # Save evaluation metrics, generator, disc, and optimizers every 50 epochs\n",
    "    if (epoch + 1) % 50 == 0:\n",
    "        os.makedirs(f\"cDCGANs-Gray/cDCGANs-Gray-Arch-2-{epoch+1}\", exist_ok=True)\n",
    "        \n",
    "        # Visualize FID\n",
    "        plt.figure(figsize=(10, 5))\n",
    "        plt.plot(range(epoch + 1), fid_scores, label='FID')\n",
    "        plt.xlabel('Epoch')\n",
    "        plt.ylabel('FID')\n",
    "        plt.title('FID Score')\n",
    "        plt.legend()\n",
    "        plt.savefig(f\"cDCGANs-Gray/cDCGANs-Gray-Arch-2-{epoch+1}/fid_plot.png\")\n",
    "        plt.close()\n",
    "        \n",
    "        plt.figure(figsize=(10, 5))\n",
    "        plt.plot(losses_disc, label='Disc Loss')\n",
    "        plt.plot(losses_gen, label='Generator Loss')\n",
    "        plt.xlabel('Iteration')\n",
    "        plt.ylabel('Loss')\n",
    "        plt.title(f'Epoch {epoch+1}/{epochs}: Disc and Generator Losses')\n",
    "        plt.legend()\n",
    "        plt.savefig(f\"cDCGANs-Gray/cDCGANs-Gray-Arch-2-{epoch+1}/losses_plot.png\")  \n",
    "        \n",
    "        plt.imsave(f\"cDCGANs-Gray/cDCGANs-Gray-Arch-2-{epoch+1}/fake_{epoch+1}.png\", img_grid_fake.permute(1, 2, 0).cpu().numpy())\n",
    "        # Save evaluation metrics\n",
    "        evaluation_metrics = {\"FID\": fid_scores[-1]}\n",
    "        torch.save(evaluation_metrics, f\"cDCGANs-Gray/cDCGANs-Gray-Arch-2-{epoch+1}/evaluation_metrics.pth\")\n",
    "\n",
    "        # Save generator, disc, and optimizers\n",
    "        torch.save(gen.state_dict(), f\"cDCGANs-Gray/cDCGANs-Gray-Arch-2-{epoch+1}/gen_{epoch+1}.pth\")\n",
    "        torch.save(disc.state_dict(), f\"cDCGANs-Gray/cDCGANs-Gray-Arch-2-{epoch+1}/disc_{epoch+1}.pth\")\n",
    "        torch.save(opt_gen.state_dict(), f\"cDCGANs-Gray/cDCGANs-Gray-Arch-2-{epoch+1}/opt_gen_{epoch+1}.pth\")\n",
    "        torch.save(opt_disc.state_dict(), f\"cDCGANs-Gray/cDCGANs-Gray-Arch-2-{epoch+1}/opt_disc_{epoch+1}.pth\")\n",
    "\n",
    "        # Save losses and evaluation scores to files\n",
    "        torch.save(losses_disc, f\"cDCGANs-Gray/cDCGANs-Gray-Arch-2-{epoch+1}/losses_disc.pth\")\n",
    "        torch.save(losses_gen, f\"cDCGANs-Gray/cDCGANs-Gray-Arch-2-{epoch+1}/losses_gen.pth\")\n",
    "        torch.save(fid_scores, f\"cDCGANs-Gray/cDCGANs-Gray-Arch-2-{epoch+1}/fid_scores.pth\")\n",
    "    if (epoch+1) %25 == 0:\n",
    "        clear_output()\n",
    "    gen.train()\n"
   ]
  },
  {
   "cell_type": "code",
   "execution_count": null,
   "metadata": {},
   "outputs": [],
   "source": [
    "os.makedirs(f\"cDCGANs-Gray/cDCGANs-Gray-Arch-2-{epoch+1}\", exist_ok=True)\n",
    "        \n",
    "# Visualize FID\n",
    "plt.figure(figsize=(10, 5))\n",
    "plt.plot(range(epoch + 1), fid_scores, label='FID')\n",
    "plt.xlabel('Epoch')\n",
    "plt.ylabel('FID')\n",
    "plt.title('FID Score')\n",
    "plt.legend()\n",
    "plt.savefig(f\"cDCGANs-Gray/cDCGANs-Gray-Arch-2-{epoch+1}/fid_plot.png\")\n",
    "plt.close()\n",
    "\n",
    "plt.figure(figsize=(10, 5))\n",
    "plt.plot(losses_disc, label='Disc Loss')\n",
    "plt.plot(losses_gen, label='Generator Loss')\n",
    "plt.xlabel('Iteration')\n",
    "plt.ylabel('Loss')\n",
    "plt.title(f'Epoch {epoch+1}/{epochs}: Disc and Generator Losses')\n",
    "plt.legend()\n",
    "plt.savefig(f\"cDCGANs-Gray/cDCGANs-Gray-Arch-2-{epoch+1}/losses_plot.png\")  \n",
    "\n",
    "plt.imsave(f\"cDCGANs-Gray/cDCGANs-Gray-Arch-2-{epoch+1}/fake_{epoch+1}.png\", img_grid_fake.permute(1, 2, 0).cpu().numpy())\n",
    "# Save evaluation metrics\n",
    "evaluation_metrics = {\"FID\": fid_scores[-1]}\n",
    "torch.save(evaluation_metrics, f\"cDCGANs-Gray/cDCGANs-Gray-Arch-2-{epoch+1}/evaluation_metrics.pth\")\n",
    "\n",
    "# Save generator, disc, and optimizers\n",
    "torch.save(gen.state_dict(), f\"cDCGANs-Gray/cDCGANs-Gray-Arch-2-{epoch+1}/gen_{epoch+1}.pth\")\n",
    "torch.save(disc.state_dict(), f\"cDCGANs-Gray/cDCGANs-Gray-Arch-2-{epoch+1}/disc_{epoch+1}.pth\")\n",
    "torch.save(opt_gen.state_dict(), f\"cDCGANs-Gray/cDCGANs-Gray-Arch-2-{epoch+1}/opt_gen_{epoch+1}.pth\")\n",
    "torch.save(opt_disc.state_dict(), f\"cDCGANs-Gray/cDCGANs-Gray-Arch-2-{epoch+1}/opt_disc_{epoch+1}.pth\")\n",
    "\n",
    "# Save losses and evaluation scores to files\n",
    "torch.save(losses_disc, f\"cDCGANs-Gray/cDCGANs-Gray-Arch-2-{epoch+1}/losses_disc.pth\")\n",
    "torch.save(losses_gen, f\"cDCGANs-Gray/cDCGANs-Gray-Arch-2-{epoch+1}/losses_gen.pth\")\n",
    "torch.save(fid_scores, f\"cDCGANs-Gray/cDCGANs-Gray-Arch-2-{epoch+1}/fid_scores.pth\")"
   ]
  },
  {
   "cell_type": "markdown",
   "metadata": {},
   "source": [
    "# Results"
   ]
  },
  {
   "cell_type": "code",
   "execution_count": null,
   "metadata": {},
   "outputs": [],
   "source": [
    "torch.cuda.empty_cache()"
   ]
  },
  {
   "cell_type": "code",
   "execution_count": null,
   "metadata": {},
   "outputs": [],
   "source": [
    "# Load the model\n",
    "gen_loaded = Generator(z_dim=100, channels_img=1, features_g=64, num_classes=3, img_size=64, embed_size=100)\n",
    "gen_loaded.load_state_dict(torch.load(\"cDCGANs-Gray-Arch-2-41/gen_41.pth\"))\n",
    "gen_loaded.eval()\n",
    "\n",
    "\n",
    "labels = torch.LongTensor([random.randint(0,2) for i in range(32)])\n",
    "noise = torch.randn(32, 100, 1, 1)\n",
    "fake = gen_loaded(noise, labels)\n",
    "img_grid_fake = make_grid(fake[:32], normalize=True)\n",
    "plt.imshow(img_grid_fake.permute(1, 2, 0).cpu().numpy())\n",
    "plt.show()"
   ]
  },
  {
   "cell_type": "code",
   "execution_count": null,
   "metadata": {},
   "outputs": [],
   "source": [
    "# Generate samples now\n",
    "gen.eval()\n",
    "noise = torch.randn(32, z_dim, 1, 1).to(device)\n",
    "labels = torch.LongTensor([random.randint(0,2) for i in range(32)]).to(device)\n",
    "fake = gen(noise,labels)\n",
    "img_grid_fake = make_grid(fake[:32], normalize=True)\n",
    "plt.imshow(img_grid_fake.permute(1, 2, 0).cpu().numpy())\n",
    "plt.show()"
   ]
  },
  {
   "cell_type": "code",
   "execution_count": null,
   "metadata": {},
   "outputs": [],
   "source": [
    "gen.eval()\n",
    "noise = torch.randn(1, z_dim, 1, 1).to(device)\n",
    "label = torch.LongTensor([2]).to(device)\n",
    "fake = gen(noise,label)\n",
    "img_grid_fake = make_grid(fake[:1], normalize=True)\n",
    "plt.imshow(img_grid_fake.permute(1, 2, 0).cpu().numpy())\n",
    "plt.show()"
   ]
  },
  {
   "cell_type": "code",
   "execution_count": null,
   "metadata": {},
   "outputs": [],
   "source": [
    "gen.eval()\n",
    "noise = torch.randn(1, z_dim, 1, 1).to(device)\n",
    "label = torch.LongTensor([1]).to(device)\n",
    "fake = gen(noise,label)\n",
    "img_grid_fake = make_grid(fake[:1], normalize=True)\n",
    "plt.imshow(img_grid_fake.permute(1, 2, 0).cpu().numpy())\n",
    "plt.show()"
   ]
  },
  {
   "cell_type": "code",
   "execution_count": null,
   "metadata": {},
   "outputs": [],
   "source": [
    "gen.eval()\n",
    "noise = torch.rand(1, z_dim, 1, 1).to(device)\n",
    "label = torch.LongTensor([0]).to(device)\n",
    "fake = gen(noise,label)\n",
    "img_grid_fake = make_grid(fake[:1], normalize=True)\n",
    "plt.imshow(img_grid_fake.permute(1, 2, 0).cpu().numpy())\n",
    "plt.show()"
   ]
  },
  {
   "cell_type": "code",
   "execution_count": null,
   "metadata": {},
   "outputs": [],
   "source": [
    "torch.save(gen.state_dict(), \"Models/cgen_25_epochs-modified-training.pth\")"
   ]
  },
  {
   "cell_type": "code",
   "execution_count": null,
   "metadata": {},
   "outputs": [],
   "source": [
    "torch.save(disc.state_dict(), \"Models/cdisc_25_epochs-modified-training.pth\")"
   ]
  },
  {
   "cell_type": "code",
   "execution_count": null,
   "metadata": {},
   "outputs": [],
   "source": [
    "torch.cuda.get_device_name(device=device)"
   ]
  },
  {
   "cell_type": "code",
   "execution_count": null,
   "metadata": {},
   "outputs": [],
   "source": []
  }
 ],
 "metadata": {
  "kernelspec": {
   "display_name": "DCGAN",
   "language": "python",
   "name": "python3"
  },
  "language_info": {
   "codemirror_mode": {
    "name": "ipython",
    "version": 3
   },
   "file_extension": ".py",
   "mimetype": "text/x-python",
   "name": "python",
   "nbconvert_exporter": "python",
   "pygments_lexer": "ipython3",
   "version": "3.12.2"
  }
 },
 "nbformat": 4,
 "nbformat_minor": 2
}
